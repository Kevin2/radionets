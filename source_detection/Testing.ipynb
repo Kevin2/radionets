{
 "cells": [
  {
   "cell_type": "code",
   "execution_count": 1,
   "metadata": {},
   "outputs": [],
   "source": [
    "import numpy as np\n",
    "from tqdm import tqdm\n",
    "from scipy.ndimage import gaussian_filter\n",
    "from radionets.simulations.gaussians import create_grid, gauss_parameters, create_rot_mat, gaussian_component, add_gaussian\n",
    "import matplotlib.pyplot as plt\n",
    "from matplotlib.animation import FuncAnimation\n",
    "from matplotlib.animation import PillowWriter"
   ]
  },
  {
   "cell_type": "code",
   "execution_count": 2,
   "metadata": {},
   "outputs": [],
   "source": [
    "def toy_gaussian_source(grid,comps, amp, x, y, sig_x, sig_y, rot, step, sides):\n",
    "    \"\"\"\n",
    "    Creates random Gaussian source parameters and returns an image\n",
    "    of a Gaussian source.\n",
    "\n",
    "    Parameters\n",
    "    ----------\n",
    "    grid: nd array\n",
    "        array holding 2d grid and axis for one image\n",
    "\n",
    "    Returns\n",
    "    -------\n",
    "    s: 2darray\n",
    "       Image containing a simulated Gaussian source.\n",
    "    \"\"\"\n",
    "    s = toy_create_gaussian_source(\n",
    "        grid, comps, amp, x, y, sig_x, sig_y, rot, step, sides, blur=True\n",
    "    )\n",
    "    return s"
   ]
  },
  {
   "cell_type": "code",
   "execution_count": 3,
   "metadata": {},
   "outputs": [],
   "source": [
    "def toy_create_gaussian_source(\n",
    "    grid, comps, amp, x, y, sig_x, sig_y, rot, step, sides, blur=True\n",
    "):\n",
    "    \"\"\"\n",
    "    Combines Gaussian components on a 2d grid to create a Gaussian source\n",
    "\n",
    "    takes grid\n",
    "    side: one-sided or two-sided\n",
    "    core dominated or lobe dominated\n",
    "    number of components\n",
    "    angle of the jet\n",
    "\n",
    "    Parameters\n",
    "    ----------\n",
    "    grid: ndarray\n",
    "        2dgrid + X and Y meshgrid\n",
    "    comps: int\n",
    "        number of components\n",
    "    amp: 1darray\n",
    "        amplitudes of components\n",
    "    x: 1darray\n",
    "        x positions of components\n",
    "    y: 1darray\n",
    "        y positions of components\n",
    "    sig_x: 1darray\n",
    "        standard deviations of components in x\n",
    "    sig_y: 1darray\n",
    "        standard deviations of components in y\n",
    "    rot: int\n",
    "        rotation of the jet in degree\n",
    "    sides: int\n",
    "        0 one-sided, 1 two-sided jet\n",
    "    blur: bool\n",
    "        use Gaussian filter to blur image\n",
    "\n",
    "    Returns\n",
    "    -------\n",
    "    source: 2darray\n",
    "        2d grid containing Gaussian source\n",
    "\n",
    "    Comments\n",
    "    --------\n",
    "    components should not have too big gaps between each other\n",
    "    \"\"\"\n",
    "    if sides == 1:\n",
    "        comps += comps - 1\n",
    "        amp = np.append(amp, amp[1:])\n",
    "        x = np.append(x, -x[1:])\n",
    "        y = np.append(y, -y[1:])\n",
    "        sig_x = np.append(sig_x, sig_x[1:])\n",
    "        sig_y = np.append(sig_y, sig_y[1:])\n",
    "\n",
    "    for i in range(comps):\n",
    "        source = add_gaussian(\n",
    "            grid=grid,\n",
    "            amp=amp[i],\n",
    "            x=x[i]*step/4,\n",
    "            y=y[i]*step/4,\n",
    "            sig_x=sig_x[i],\n",
    "            sig_y=sig_y[i],\n",
    "            rot=rot,\n",
    "        )\n",
    "    if blur is True:\n",
    "        source = gaussian_filter(source, sigma=1.5)\n",
    "    return source\n"
   ]
  },
  {
   "cell_type": "code",
   "execution_count": 4,
   "metadata": {},
   "outputs": [],
   "source": [
    "#%matplotlib notebook\n",
    "from ipywidgets import interact, widgets"
   ]
  },
  {
   "cell_type": "code",
   "execution_count": 5,
   "metadata": {},
   "outputs": [],
   "source": [
    "comps, amp, x, y, sig_x, sig_y, rot, sides = gauss_parameters()"
   ]
  },
  {
   "cell_type": "code",
   "execution_count": 6,
   "metadata": {},
   "outputs": [
    {
     "data": {
      "text/plain": [
       "<Figure size 432x288 with 0 Axes>"
      ]
     },
     "metadata": {},
     "output_type": "display_data"
    },
    {
     "data": {
      "application/vnd.jupyter.widget-view+json": {
       "model_id": "6322ddaaa5674267b3b857669539ebb9",
       "version_major": 2,
       "version_minor": 0
      },
      "text/plain": [
       "interactive(children=(IntSlider(value=1, description='n', max=20), Output()), _dom_classes=('widget-interact',…"
      ]
     },
     "metadata": {},
     "output_type": "display_data"
    },
    {
     "data": {
      "text/plain": [
       "<function __main__.f(n)>"
      ]
     },
     "execution_count": 6,
     "metadata": {},
     "output_type": "execute_result"
    }
   ],
   "source": [
    "#sides=1\n",
    "#comps=5\n",
    "\n",
    "\n",
    "\n",
    "\n",
    "def f(n):\n",
    "    a = create_grid(63,n+1)\n",
    "    step = n\n",
    "    sim_source = toy_gaussian_source(a[0],comps, amp, x, y, sig_x, sig_y, rot, step, sides)\n",
    "    fig.canvas.draw_idle()\n",
    "    plt.imshow(sim_source)\n",
    "    plt.show()\n",
    "    plt.pause(0.1)\n",
    "    \n",
    "fig = plt.figure(figsize=(6, 4))\n",
    "\n",
    "\n",
    "interact(f, n=widgets.IntSlider(min=0,max=20,step=1,value=1)) \n"
   ]
  },
  {
   "cell_type": "code",
   "execution_count": null,
   "metadata": {},
   "outputs": [],
   "source": []
  }
 ],
 "metadata": {
  "kernelspec": {
   "display_name": "Python 3",
   "language": "python",
   "name": "python3"
  },
  "language_info": {
   "codemirror_mode": {
    "name": "ipython",
    "version": 3
   },
   "file_extension": ".py",
   "mimetype": "text/x-python",
   "name": "python",
   "nbconvert_exporter": "python",
   "pygments_lexer": "ipython3",
   "version": "3.8.5"
  }
 },
 "nbformat": 4,
 "nbformat_minor": 4
}
