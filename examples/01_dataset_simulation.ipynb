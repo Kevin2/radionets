{
 "cells": [
  {
   "cell_type": "markdown",
   "metadata": {},
   "source": [
    "## Dataset Simulation\n",
    "\n",
    "This jupyter notebook gives an overview of the dataset creation using the radionets framework. Different simulation options are explained and a toy dataset is created. This toy dataset is used in the next notebook to explain the training process."
   ]
  },
  {
   "cell_type": "markdown",
   "metadata": {},
   "source": [
    "### Simulation Config\n",
    "\n",
    "All necessary options to create a dataset can be specified in the `simulation_config.toml`. For a costum analysis, it is recommended to create a copy of the `default_simulation_config.toml` in your own working directory. For this example, we will use the `default_simulation_config.toml`. Let's have a look what kind of options are available inside the config file."
   ]
  },
  {
   "cell_type": "code",
   "execution_count": 1,
   "metadata": {},
   "outputs": [],
   "source": [
    "import toml"
   ]
  },
  {
   "cell_type": "code",
   "execution_count": 2,
   "metadata": {},
   "outputs": [
    {
     "data": {
      "text/plain": [
       "dict_keys(['title', 'mode', 'paths', 'mnist', 'gaussians', 'image_options', 'sampling_options'])"
      ]
     },
     "execution_count": 2,
     "metadata": {},
     "output_type": "execute_result"
    }
   ],
   "source": [
    "config_path = \"./default_simulation_config.toml\"\n",
    "sim_conf = toml.load(config_path)\n",
    "sim_conf.keys()"
   ]
  },
  {
   "cell_type": "markdown",
   "metadata": {},
   "source": [
    "The config file is divided into different parts:\n",
    "* mode\n",
    "* paths\n",
    "* mnist\n",
    "* gaussians\n",
    "* image_options\n",
    "* sampling options"
   ]
  },
  {
   "cell_type": "markdown",
   "metadata": {},
   "source": [
    "#### mode\n",
    "\n",
    "The only option here is to enable the `batch_mode` option. This is necessary when you are running the analysis on a machine with queuing systems like `slurm`. It will disable all user input prompts."
   ]
  },
  {
   "cell_type": "code",
   "execution_count": 3,
   "metadata": {},
   "outputs": [
    {
     "data": {
      "text/plain": [
       "{'batch_mode': True}"
      ]
     },
     "execution_count": 3,
     "metadata": {},
     "output_type": "execute_result"
    }
   ],
   "source": [
    "sim_conf[\"mode\"]"
   ]
  },
  {
   "cell_type": "markdown",
   "metadata": {},
   "source": [
    "#### paths\n",
    "\n",
    "In this section, you can specify the path to save the data and the data format. At  the moment the only available format is `hdf5`."
   ]
  },
  {
   "cell_type": "code",
   "execution_count": 4,
   "metadata": {},
   "outputs": [
    {
     "data": {
      "text/plain": [
       "{'data_path': './example_data/', 'data_format': 'h5'}"
      ]
     },
     "execution_count": 4,
     "metadata": {},
     "output_type": "execute_result"
    }
   ],
   "source": [
    "sim_conf[\"paths\"]"
   ]
  },
  {
   "cell_type": "markdown",
   "metadata": {},
   "source": [
    "#### mnist\n",
    "\n",
    "It is possible to create a toy dataset based on the images of handwritten digits from the mnist dataset. Taking the mnist digits as resource can be enabled by setting `simulate` to `true`. Note that you can only use `mnist` in the case `gaussians`is disabled."
   ]
  },
  {
   "cell_type": "code",
   "execution_count": 5,
   "metadata": {},
   "outputs": [
    {
     "data": {
      "text/plain": [
       "{'simulate': False, 'resource': '../../resources/mnist.pkl.gz'}"
      ]
     },
     "execution_count": 5,
     "metadata": {},
     "output_type": "execute_result"
    }
   ],
   "source": [
    "sim_conf[\"mnist\"]"
   ]
  },
  {
   "cell_type": "markdown",
   "metadata": {},
   "source": [
    "#### gaussians\n",
    "\n",
    "In this section, you can enable the dataset creation based on Gaussian sources. These can be pointsources and extended Gaussian sources or a mixture. You can select the simulation of Gaussian sources by setting `simulate` to `true`. The different source types can be selected by setting their keywords to `true`. Furthermore, the number of sources or the number of components in the extended sources can be specified. In case of extended sources it is a range from which a random number is selected."
   ]
  },
  {
   "cell_type": "code",
   "execution_count": 6,
   "metadata": {},
   "outputs": [
    {
     "data": {
      "text/plain": [
       "{'simulate': True,\n",
       " 'pointsources': False,\n",
       " 'num_pointsources': 10,\n",
       " 'pointlike_gaussians': False,\n",
       " 'num_pointlike_gaussians': 5,\n",
       " 'extended_gaussians': True,\n",
       " 'num_components': [4, 10]}"
      ]
     },
     "execution_count": 6,
     "metadata": {},
     "output_type": "execute_result"
    }
   ],
   "source": [
    "sim_conf[\"gaussians\"]"
   ]
  },
  {
   "cell_type": "markdown",
   "metadata": {},
   "source": [
    "#### image_options\n",
    "\n",
    "In this section, different image options can be set. All simulated images are saved in bundles. The number of bundles for the train, valid and test dataset can be specified. Furthermore, the number of images inside one bundle and the image size in pixel can be chosen. All simulated images are quadratic. As a last option, it is possible to add random noise values to all pixels."
   ]
  },
  {
   "cell_type": "code",
   "execution_count": 7,
   "metadata": {},
   "outputs": [
    {
     "data": {
      "text/plain": [
       "{'bundles_train': 5,\n",
       " 'bundles_valid': 1,\n",
       " 'bundles_test': 1,\n",
       " 'bundle_size': 500,\n",
       " 'img_size': 63,\n",
       " 'noise': False}"
      ]
     },
     "execution_count": 7,
     "metadata": {},
     "output_type": "execute_result"
    }
   ],
   "source": [
    "sim_conf[\"image_options\"]"
   ]
  },
  {
   "cell_type": "markdown",
   "metadata": {},
   "source": [
    "#### sampling_options\n",
    "\n",
    "There are different sampling options available. You can decide between creating datasets where the `x` images are saved in Fourier space and the `y` images in the local space or datasets where both `x` and `y` are saved in Fourier space. This can be specified with the keyword `fourier`. Additionally, there is the option to use the real and imaginary parts of the complex numbers or to transform them into amplitude and phase.\n",
    "\n",
    "For the sampling, a layout of a real radio interferometer is used. At the moment, only the layout of the VLBA is available. With the hlep of this layout sampling masks are created to simulate incomplete Fourier spectra. This can be done by using a `specific_mask` for all images with specified starting `lon`, starting `lat` and number of sample `steps` or by drawing a new random mask for every image. In the example dataset, all observations start at `lon = -80`, `lat = 50` and will last for `50 time steps`.\n",
    "\n",
    "With the `keep_fft_files` option one can specify to delete all fft files after creating the simulations to save disk space.\n",
    "\n",
    "The `source_list` options allows it to save a list of sources instead of a source image. This option is only available when `fourier = false`.\n",
    "\n",
    "The `compressed` option will be deleted soon. "
   ]
  },
  {
   "cell_type": "code",
   "execution_count": 8,
   "metadata": {},
   "outputs": [
    {
     "data": {
      "text/plain": [
       "{'fourier': True,\n",
       " 'real_imag': False,\n",
       " 'amp_phase': True,\n",
       " 'antenna_config': 'vlba',\n",
       " 'specific_mask': True,\n",
       " 'lon': -80,\n",
       " 'lat': 50,\n",
       " 'steps': 50,\n",
       " 'keep_fft_files': True,\n",
       " 'source_list': False,\n",
       " 'compressed': False}"
      ]
     },
     "execution_count": 8,
     "metadata": {},
     "output_type": "execute_result"
    }
   ],
   "source": [
    "sim_conf[\"sampling_options\"]"
   ]
  },
  {
   "cell_type": "markdown",
   "metadata": {},
   "source": [
    "### Run the Simulation Script\n",
    "\n",
    "The simulation script can be run as a command line executable. "
   ]
  },
  {
   "cell_type": "code",
   "execution_count": 9,
   "metadata": {},
   "outputs": [
    {
     "name": "stdout",
     "output_type": "stream",
     "text": [
      "Found existing fft_files!\n",
      "Overwriting old fft_files!\n",
      "Create fft_images from gaussian data set! \n",
      "\n",
      "Adding extended gaussian sources.\n",
      "\n",
      " Simulation config:\n",
      "{'data_path': './example_data/', 'data_format': 'h5', 'type': 'gaussians', 'num_pointsources': None, 'num_pointlike_gaussians': None, 'num_components': [4, 10], 'bundles_train': 5, 'bundles_valid': 1, 'bundles_test': 1, 'bundle_size': 500, 'img_size': 63, 'noise': False, 'amp_phase': True, 'real_imag': False, 'source_list': False, 'antenna_config': 'vlba', 'specific_mask': True, 'lon': -80, 'lat': 50, 'steps': 50, 'fourier': True, 'compressed': False, 'keep_fft_files': True} \n",
      "\n",
      "Starting simulation of fft_files!\n",
      "100%|█████████████████████████████████████████████| 5/5 [00:02<00:00,  2.21it/s]\n",
      "100%|█████████████████████████████████████████████| 1/1 [00:00<00:00,  2.23it/s]\n",
      "100%|█████████████████████████████████████████████| 1/1 [00:00<00:00,  2.17it/s]\n",
      "Start sampling fft_files!\n",
      "\n",
      " Sampling train data set.\n",
      "\n",
      "100%|█████████████████████████████████████████████| 5/5 [00:00<00:00,  5.40it/s]\n",
      "\n",
      " Sampling valid data set.\n",
      "\n",
      "100%|█████████████████████████████████████████████| 1/1 [00:00<00:00,  5.44it/s]\n",
      "\n",
      " Sampling test data set.\n",
      "\n",
      "100%|█████████████████████████████████████████████| 1/1 [00:00<00:00,  5.41it/s]\n",
      "\n",
      " Calculating normalization factors.\n",
      "100%|█████████████████████████████████████████████| 5/5 [00:00<00:00, 34.98it/s]\n"
     ]
    }
   ],
   "source": [
    "!radionets_simulations ./default_simulation_config.toml"
   ]
  },
  {
   "cell_type": "code",
   "execution_count": null,
   "metadata": {},
   "outputs": [],
   "source": []
  }
 ],
 "metadata": {
  "kernelspec": {
   "display_name": "Python 3",
   "language": "python",
   "name": "python3"
  },
  "language_info": {
   "codemirror_mode": {
    "name": "ipython",
    "version": 3
   },
   "file_extension": ".py",
   "mimetype": "text/x-python",
   "name": "python",
   "nbconvert_exporter": "python",
   "pygments_lexer": "ipython3",
   "version": "3.8.5"
  }
 },
 "nbformat": 4,
 "nbformat_minor": 4
}
