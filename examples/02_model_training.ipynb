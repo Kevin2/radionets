{
 "cells": [
  {
   "cell_type": "code",
   "execution_count": 1,
   "metadata": {},
   "outputs": [],
   "source": [
    "import toml\n",
    "import torch\n",
    "import matplotlib.pyplot as plt\n",
    "from fastai.callback.schedule import combined_cos"
   ]
  },
  {
   "cell_type": "code",
   "execution_count": 2,
   "metadata": {},
   "outputs": [],
   "source": [
    "from IPython.display import IFrame\n",
    "from IPython.core.display import HTML "
   ]
  },
  {
   "cell_type": "markdown",
   "metadata": {},
   "source": [
    "# Model Training\n",
    "\n",
    "This jupyter notebook gives an overview how to train a deep learning model using the radionets framework. For the deep learning model training the executable `radionets_training <...>` is used, which is added to your path when installing the radionets package. "
   ]
  },
  {
   "cell_type": "markdown",
   "metadata": {},
   "source": [
    "## Training Config\n",
    "\n",
    "Again, all necessary options and paths have to be set in a configuration file. In this example we will use the `default_train_config.toml`."
   ]
  },
  {
   "cell_type": "code",
   "execution_count": 3,
   "metadata": {},
   "outputs": [
    {
     "data": {
      "text/plain": [
       "dict_keys(['title', 'mode', 'paths', 'general', 'hypers', 'param_scheduling'])"
      ]
     },
     "execution_count": 3,
     "metadata": {},
     "output_type": "execute_result"
    }
   ],
   "source": [
    "config_path = \"./default_train_config.toml\"\n",
    "train_conf = toml.load(config_path)\n",
    "train_conf.keys()"
   ]
  },
  {
   "cell_type": "markdown",
   "metadata": {},
   "source": [
    "The config file is divided into following parts:\n",
    "* mode\n",
    "* paths\n",
    "* general\n",
    "* hypers\n",
    "* param_scheduling"
   ]
  },
  {
   "cell_type": "markdown",
   "metadata": {},
   "source": [
    "### mode\n",
    "\n",
    "In this section, three options are available. One is he possibility to enable `batch_mode`. This is necessary when you are running the analysis on a machine with queuing systems like `slurm`. It will disable all user input prompts. With the `gpu` keyword you can enable to use a gpu device for the training. The last option is to enable the `telegram_logger`, which will send training information to a telegram bot. Before this feature can be used, the telegram logger has to be configured. Detailed instructions can be found in [has to be specified!]."
   ]
  },
  {
   "cell_type": "code",
   "execution_count": 4,
   "metadata": {},
   "outputs": [
    {
     "data": {
      "text/plain": [
       "{'batch_mode': True, 'gpu': True, 'telegram_logger': False}"
      ]
     },
     "execution_count": 4,
     "metadata": {},
     "output_type": "execute_result"
    }
   ],
   "source": [
    "train_conf[\"mode\"]"
   ]
  },
  {
   "cell_type": "markdown",
   "metadata": {},
   "source": [
    "### paths\n",
    "\n",
    "This part of the config file is used to set the different data and model paths. You can specify the `data_path` to the simulations which shall be used for the training. The `model_path` defines where the model weights are saved after the training process is completed. Furthermore, there are the options to load a `pre_model` before the training and to pass a `norm_path` with values to normalize all batches before they are passed to the network."
   ]
  },
  {
   "cell_type": "code",
   "execution_count": 5,
   "metadata": {},
   "outputs": [
    {
     "data": {
      "text/plain": [
       "{'data_path': './example_data/',\n",
       " 'model_path': './build/example_model/example.model',\n",
       " 'pre_model': 'none',\n",
       " 'norm_path': 'none'}"
      ]
     },
     "execution_count": 5,
     "metadata": {},
     "output_type": "execute_result"
    }
   ],
   "source": [
    "train_conf[\"paths\"]"
   ]
  },
  {
   "cell_type": "markdown",
   "metadata": {},
   "source": [
    "### general\n",
    "\n",
    "In this section, some general options have to be specified. First of all, you can define wheter the used dataset is a `fourier` datset or not. Furthermore, it must be set if the used dataset is a `source_list` one. For the architecture a `arch_name` from the list of defined architectures can be indicated. The some applies to the `loss_func`. The network will be trained for `num_epochs`. When enabling the inspection option a bunch of example predictions will be generated after the training process is finished. A list of all available architectures and loss functions can be found in [Archs&Losses](Archs&Losses.ipynb)"
   ]
  },
  {
   "cell_type": "code",
   "execution_count": 6,
   "metadata": {},
   "outputs": [
    {
     "data": {
      "text/plain": [
       "{'fourier': True,\n",
       " 'source_list': False,\n",
       " 'arch_name': 'filter_deep',\n",
       " 'loss_func': 'splitted_mse',\n",
       " 'num_epochs': 10,\n",
       " 'inspection': True}"
      ]
     },
     "execution_count": 6,
     "metadata": {},
     "output_type": "execute_result"
    }
   ],
   "source": [
    "train_conf[\"general\"]"
   ]
  },
  {
   "cell_type": "markdown",
   "metadata": {},
   "source": [
    "### hypers\n",
    "\n",
    "Here, the hyper parameters are defined. These are the learning rate `lr` and the `batch_size`."
   ]
  },
  {
   "cell_type": "code",
   "execution_count": 7,
   "metadata": {},
   "outputs": [
    {
     "data": {
      "text/plain": [
       "{'batch_size': 100, 'lr': 0.001}"
      ]
     },
     "execution_count": 7,
     "metadata": {},
     "output_type": "execute_result"
    }
   ],
   "source": [
    "train_conf[\"hypers\"]"
   ]
  },
  {
   "cell_type": "markdown",
   "metadata": {},
   "source": [
    "### param_scheduling\n",
    "\n",
    "Instead of a static learning rate, an adaptive one can be used by enabling this option. A combined cosine shape shown in the image below will be used to adjust the learning rate over the training process. `lr_start`, `lr_max` and `lr_stop` can be specified in this section of the config file."
   ]
  },
  {
   "cell_type": "code",
   "execution_count": 8,
   "metadata": {},
   "outputs": [
    {
     "data": {
      "text/plain": [
       "{'use': True, 'lr_start': 0.001, 'lr_max': 0.005, 'lr_stop': 0.0007}"
      ]
     },
     "execution_count": 8,
     "metadata": {},
     "output_type": "execute_result"
    }
   ],
   "source": [
    "train_conf[\"param_scheduling\"]"
   ]
  },
  {
   "cell_type": "code",
   "execution_count": 9,
   "metadata": {},
   "outputs": [
    {
     "data": {
      "image/png": "[encoded data removed]",
      "text/plain": [
       "<Figure size 432x288 with 1 Axes>"
      ]
     },
     "metadata": {
      "needs_background": "light"
     },
     "output_type": "display_data"
    }
   ],
   "source": [
    "f = combined_cos(0.25,1e-3,5e-3,7e-4)\n",
    "p = torch.linspace(0.,1,100)\n",
    "plt.plot(p, [f(o) for o in p]);\n",
    "plt.yscale(\"log\")"
   ]
  },
  {
   "cell_type": "markdown",
   "metadata": {},
   "source": [
    "## Training of a Neural Network\n",
    "\n",
    "Starting the training process with the default config file."
   ]
  },
  {
   "cell_type": "code",
   "execution_count": 34,
   "metadata": {},
   "outputs": [
    {
     "name": "stdout",
     "output_type": "stream",
     "text": [
      "\n",
      " Train config:\n",
      "{'data_path': './example_data/', 'model_path': './build/example_model/example.model', 'pre_model': 'none', 'norm_path': 'none', 'batch_mode': True, 'gpu': True, 'telegram_logger': False, 'bs': 100, 'lr': 0.001, 'fourier': True, 'arch_name': 'filter_deep', 'loss_func': 'splitted_mse', 'num_epochs': 10, 'inspection': True, 'param_scheduling': True, 'lr_start': 0.07, 'lr_max': 0.3, 'lr_stop': 0.05, 'source_list': False} \n",
      "\n",
      "Overwriting existing model file!\n",
      "Start training of the model.\n",
      "\n",
      "[0, 61.51641845703125, 28.47515869140625, '00:05']\n",
      "[1, 32.67810821533203, 27.699613571166992, '00:04']\n",
      "[2, 20.860370635986328, 15.053994178771973, '00:04']\n",
      "[3, 14.740080833435059, 12.130480766296387, '00:04']\n",
      "[4, 11.530167579650879, 9.296224594116211, '00:04']\n",
      "[5, 9.747480392456055, 8.740177154541016, '00:04']\n",
      "[6, 8.637312889099121, 8.697736740112305, '00:04']\n",
      "[7, 7.847763538360596, 7.391854763031006, '00:04']\n",
      "[8, 7.262141227722168, 7.255746364593506, '00:04']\n",
      "[9, 6.8124165534973145, 7.031745910644531, '00:04']\n",
      "\n",
      "Finished Epoch 10, model saved.\n",
      "\n",
      "\n",
      "Plotting Loss for: example\n",
      "\n"
     ]
    }
   ],
   "source": [
    "!radionets_training ./default_train_config.toml"
   ]
  },
  {
   "cell_type": "markdown",
   "metadata": {},
   "source": [
    "### Creating the Loss Plot\n",
    "\n",
    "At the end of the training process the loss plot is created automatically. Nethertheless, it can also be created using `--mode=plot_loss` for the `radionets_training` executable."
   ]
  },
  {
   "cell_type": "code",
   "execution_count": 28,
   "metadata": {},
   "outputs": [
    {
     "name": "stdout",
     "output_type": "stream",
     "text": [
      "\n",
      " Train config:\n",
      "{'data_path': './example_data/', 'model_path': './build/example_model/example.model', 'pre_model': 'none', 'norm_path': 'none', 'batch_mode': True, 'gpu': True, 'telegram_logger': False, 'bs': 100, 'lr': 0.001, 'fourier': True, 'arch_name': 'filter_deep', 'loss_func': 'splitted_mse', 'num_epochs': 10, 'inspection': True, 'param_scheduling': True, 'lr_start': 0.001, 'lr_max': 0.005, 'lr_stop': 0.0007, 'source_list': False} \n",
      "\n",
      "Start plotting loss.\n",
      "\n",
      "\n",
      "Load pretrained model: example\n",
      "\n",
      "\n",
      "Plotting Learning rate for: example\n",
      "\n",
      "\n",
      "Plotting Loss for: example\n",
      "\n"
     ]
    }
   ],
   "source": [
    "!radionets_training --mode=plot_loss ./default_train_config.toml"
   ]
  },
  {
   "cell_type": "code",
   "execution_count": 36,
   "metadata": {},
   "outputs": [
    {
     "data": {
      "text/html": [
       "\n",
       "        <iframe\n",
       "            width=\"600\"\n",
       "            height=\"450\"\n",
       "            src=\"./build/example_model/example_loss.pdf\"\n",
       "            frameborder=\"0\"\n",
       "            allowfullscreen\n",
       "        ></iframe>\n",
       "        "
      ],
      "text/plain": [
       "<IPython.lib.display.IFrame at 0x7f4d62ce4af0>"
      ]
     },
     "execution_count": 36,
     "metadata": {},
     "output_type": "execute_result"
    }
   ],
   "source": [
    "IFrame(src=\"./build/example_model/example_loss.pdf\", width=600, height=450)"
   ]
  },
  {
   "cell_type": "markdown",
   "metadata": {},
   "source": [
    "### Example Predictions\n",
    "\n",
    "When using the `inspection=True` example predictions are created after the training process is finished. These can be found in the model directory."
   ]
  },
  {
   "cell_type": "code",
   "execution_count": 35,
   "metadata": {},
   "outputs": [
    {
     "data": {
      "text/html": [
       "\n",
       "        <iframe\n",
       "            width=\"800\"\n",
       "            height=\"450\"\n",
       "            src=\"./build/example_model/prediction_0.pdf\"\n",
       "            frameborder=\"0\"\n",
       "            allowfullscreen\n",
       "        ></iframe>\n",
       "        "
      ],
      "text/plain": [
       "<IPython.lib.display.IFrame at 0x7f4d62ce48e0>"
      ]
     },
     "execution_count": 35,
     "metadata": {},
     "output_type": "execute_result"
    }
   ],
   "source": [
    "IFrame(src=\"./build/example_model/prediction_0.pdf\", width=800, height=450)"
   ]
  },
  {
   "cell_type": "markdown",
   "metadata": {},
   "source": [
    "### Find LR\n",
    "\n",
    "Another feature is the find learning rate functionality, which uses the implementation from [fastai](https://github.com/fastai/fastai). The created plot can be used to get an idea of the best suited learning rate for the training process. It can be enabled by using the `radionets_training` executable with `--mode=lr_find`."
   ]
  },
  {
   "cell_type": "code",
   "execution_count": 31,
   "metadata": {},
   "outputs": [
    {
     "name": "stdout",
     "output_type": "stream",
     "text": [
      "\n",
      " Train config:\n",
      "{'data_path': './example_data/', 'model_path': './build/example_model/example.model', 'pre_model': 'none', 'norm_path': 'none', 'batch_mode': True, 'gpu': True, 'telegram_logger': False, 'bs': 100, 'lr': 0.001, 'fourier': True, 'arch_name': 'filter_deep', 'loss_func': 'splitted_mse', 'num_epochs': 10, 'inspection': True, 'param_scheduling': True, 'lr_start': 0.001, 'lr_max': 0.005, 'lr_stop': 0.0007, 'source_list': False} \n",
      "\n",
      "Start lr_find.\n",
      "\n",
      "\n",
      "Plotting Lr vs Loss for architecture: filter_deep\n",
      "\n"
     ]
    }
   ],
   "source": [
    "!radionets_training --mode=lr_find ./default_train_config.toml"
   ]
  },
  {
   "cell_type": "code",
   "execution_count": 32,
   "metadata": {},
   "outputs": [
    {
     "data": {
      "text/html": [
       "\n",
       "        <iframe\n",
       "            width=\"800\"\n",
       "            height=\"450\"\n",
       "            src=\"./build/example_model/lr_loss.pdf\"\n",
       "            frameborder=\"0\"\n",
       "            allowfullscreen\n",
       "        ></iframe>\n",
       "        "
      ],
      "text/plain": [
       "<IPython.lib.display.IFrame at 0x7f4d62ce4550>"
      ]
     },
     "execution_count": 32,
     "metadata": {},
     "output_type": "execute_result"
    }
   ],
   "source": [
    "IFrame(src=\"./build/example_model/lr_loss.pdf\", width=800, height=450)"
   ]
  },
  {
   "cell_type": "markdown",
   "metadata": {},
   "source": [
    "It is recommended to choose the learning rate where the loss curve has the steepest gradient."
   ]
  }
 ],
 "metadata": {
  "kernelspec": {
   "display_name": "Python 3",
   "language": "python",
   "name": "python3"
  },
  "language_info": {
   "codemirror_mode": {
    "name": "ipython",
    "version": 3
   },
   "file_extension": ".py",
   "mimetype": "text/x-python",
   "name": "python",
   "nbconvert_exporter": "python",
   "pygments_lexer": "ipython3",
   "version": "3.8.5"
  }
 },
 "nbformat": 4,
 "nbformat_minor": 4
}
